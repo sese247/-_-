{
 "cells": [
  {
   "cell_type": "code",
   "execution_count": null,
   "metadata": {},
   "outputs": [],
   "source": [
    "##인벤 글 크롤러 만들기\n",
    "##롤 인벤 -> 챔피언 공략 게시판 -> 글 제목을 가져와서 글 제목을 통한 감정분석\n",
    "##시즌에 대한 평가와 챔피언에 대한 평가 살펴보기"
   ]
  },
  {
   "cell_type": "code",
   "execution_count": 70,
   "metadata": {},
   "outputs": [],
   "source": [
    "from selenium import webdriver\n",
    "from selenium.webdriver.common.keys import Keys\n",
    "from bs4 import BeautifulSoup\n",
    "from time import sleep\n",
    "import re\n",
    "import pickle"
   ]
  },
  {
   "cell_type": "code",
   "execution_count": 2,
   "metadata": {},
   "outputs": [],
   "source": [
    "driver = webdriver.Chrome('C:/Temp/chromedriver')\n",
    "driver.get(\"https://lol.inven.co.kr/dataninfo/champion/manualTool.php\")\n",
    "\n",
    "soup = BeautifulSoup(driver.page_source, 'html.parser')"
   ]
  },
  {
   "cell_type": "code",
   "execution_count": 3,
   "metadata": {},
   "outputs": [],
   "source": [
    "## 11시즌과 관련된 글만 가져오기 위해 11시즌 선택\n",
    "season_select = driver.find_element_by_xpath(\"//*[@id='lolDbManualToolList']/div[2]/table/tbody/tr[1]/th[2]/a\")\n",
    "season_select.click()\n",
    "\n",
    "season_11 = driver.find_element_by_xpath(\"//*[@id='selectMode']/ul/li[1]/a\")\n",
    "season_11.click()"
   ]
  },
  {
   "cell_type": "code",
   "execution_count": 24,
   "metadata": {},
   "outputs": [],
   "source": [
    "headline_list = []"
   ]
  },
  {
   "cell_type": "code",
   "execution_count": null,
   "metadata": {},
   "outputs": [],
   "source": [
    "#현재 페이지의 글 개수만큼 제목 크롤링, 크롤링 -> 다음버튼 클릭. 결과가 없다고 뜨면 다음 페이지로 넘어가는 것 중지\n",
    "\n",
    "while True:\n",
    "    sleep(1)\n",
    "    next_button = driver.find_element_by_class_name(\"nexttext\")\n",
    "    end = driver.find_element_by_xpath(\"//*[@id='lolDbManualToolList']/div[2]/table/tbody/tr[2]/td\")\n",
    "    if end.text == \"검색 결과가 없습니다.\":\n",
    "        break\n",
    "    else:\n",
    "        write_num = driver.find_elements_by_xpath(\"//*[@id='lolDbManualToolList']/div[2]/table/tbody/tr\")\n",
    "        for num in range(2,len(write_num)+1):\n",
    "            headline = driver.find_element_by_xpath(\"//*[@id='lolDbManualToolList']/div[2]/table/tbody/tr[\" + str(num) + \"]/td[3]/a\").text\n",
    "            headline_list.append(headline)\n",
    "        \n",
    "        next_button.click()\n",
    "    \n",
    "print(headline_list)"
   ]
  },
  {
   "cell_type": "code",
   "execution_count": 27,
   "metadata": {},
   "outputs": [
    {
     "name": "stdout",
     "output_type": "stream",
     "text": [
      "3195\n"
     ]
    }
   ],
   "source": [
    "print(len(headline_list))"
   ]
  },
  {
   "cell_type": "code",
   "execution_count": 63,
   "metadata": {},
   "outputs": [],
   "source": [
    "word_list = []"
   ]
  },
  {
   "cell_type": "code",
   "execution_count": null,
   "metadata": {},
   "outputs": [],
   "source": [
    "#제목의 특수문자와 숫자, 영어 제거. 공백을 기준으로 단어를 나눠서 저장\n",
    "for headline in headline_list:\n",
    "    headline_split = headline.split()\n",
    "\n",
    "    for num, word in enumerate(headline_split):\n",
    "        headline_split[num] = re.sub('[^ㄱ-힗]','', word)\n",
    "\n",
    "    word_list = word_list + headline_split\n",
    "\n",
    "word_list = list(filter(None, word_list))\n",
    "\n",
    "print(word_list)"
   ]
  },
  {
   "cell_type": "code",
   "execution_count": null,
   "metadata": {},
   "outputs": [],
   "source": [
    "unique_word_list = list(set(word_list))\n",
    "print(unique_word_list)"
   ]
  },
  {
   "cell_type": "code",
   "execution_count": 69,
   "metadata": {},
   "outputs": [
    {
     "name": "stdout",
     "output_type": "stream",
     "text": [
      "14192\n",
      "1392\n"
     ]
    }
   ],
   "source": [
    "print(len(word_list))\n",
    "print(len(unique_word_list))"
   ]
  },
  {
   "cell_type": "code",
   "execution_count": 72,
   "metadata": {},
   "outputs": [],
   "source": [
    "with open('title_word.txt', 'wb') as f:\n",
    "    pickle.dump(word_list, f)\n",
    "    \n",
    "with open('title_unique_word.txt', 'wb') as f:\n",
    "    pickle.dump(unique_word_list, f)"
   ]
  },
  {
   "cell_type": "code",
   "execution_count": null,
   "metadata": {},
   "outputs": [],
   "source": []
  }
 ],
 "metadata": {
  "kernelspec": {
   "display_name": "pydatavenv",
   "language": "python",
   "name": "pydatavenv"
  },
  "language_info": {
   "codemirror_mode": {
    "name": "ipython",
    "version": 3
   },
   "file_extension": ".py",
   "mimetype": "text/x-python",
   "name": "python",
   "nbconvert_exporter": "python",
   "pygments_lexer": "ipython3",
   "version": "3.7.9"
  }
 },
 "nbformat": 4,
 "nbformat_minor": 4
}
