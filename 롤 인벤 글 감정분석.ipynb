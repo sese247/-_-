{
 "cells": [
  {
   "cell_type": "code",
   "execution_count": null,
   "metadata": {},
   "outputs": [],
   "source": [
    "##인벤 글 크롤러 만들기\n",
    "##롤 인벤 -> 챔피언 공략 게시판 -> 글 제목을 가져와서 글 제목을 통한 감정분석\n",
    "##시즌에 대한 평가와 챔피언에 대한 평가 살펴보기"
   ]
  },
  {
   "cell_type": "code",
   "execution_count": 34,
   "metadata": {},
   "outputs": [],
   "source": [
    "from selenium import webdriver\n",
    "from selenium.webdriver.common.keys import Keys\n",
    "from bs4 import BeautifulSoup\n",
    "from time import sleep"
   ]
  },
  {
   "cell_type": "code",
   "execution_count": 40,
   "metadata": {},
   "outputs": [],
   "source": [
    "driver = webdriver.Chrome('C:/Temp/chromedriver')\n",
    "driver.get(\"https://lol.inven.co.kr/dataninfo/champion/manualTool.php\")\n",
    "\n",
    "soup = BeautifulSoup(driver.page_source, 'html.parser')"
   ]
  },
  {
   "cell_type": "code",
   "execution_count": 41,
   "metadata": {},
   "outputs": [],
   "source": [
    "## 11시즌과 관련된 글만 가져오기 위해 11시즌 선택\n",
    "season_select = driver.find_element_by_xpath(\"//*[@id='lolDbManualToolList']/div[2]/table/tbody/tr[1]/th[2]/a\")\n",
    "season_select.click()\n",
    "\n",
    "season_11 = driver.find_element_by_xpath(\"//*[@id='selectMode']/ul/li[1]/a\")\n",
    "season_11.click()"
   ]
  },
  {
   "cell_type": "code",
   "execution_count": 68,
   "metadata": {},
   "outputs": [],
   "source": [
    "headline_list = []"
   ]
  },
  {
   "cell_type": "code",
   "execution_count": 69,
   "metadata": {},
   "outputs": [
    {
     "name": "stdout",
     "output_type": "stream",
     "text": [
      "51\n",
      "51\n",
      "51\n",
      "['미드 원딜 원하는대로 딸수있는 자발리신', '허니아식 소라카', '[D1]90년생 아조씨의 E선마 스카너', '이세카이 트페/슈렐봉풀주 (챔프별 상대법)', '극 쉴드충 여진딜탱바이', \"210511 AutoRefresh's 세나\", '브론즈 꿀챔 트린다미어 공략', 'z', '덤프트럭 말파', '유미56만점이 처음 쓰는 공략 (지적, 질문 ..', '나 불탄다', '아브실골 유저에게 바치는 리신공략', '달라진 치속 일라오이! 폭발적인 딜! (핫픽..', '[G4] 케일 좋아보이는 빌드 하나만 소개', '서폿 제라스 아주 좋소', '무라마나 스카너', 'M1 [ 미드독학 ] 아지르만해서 그마..', '(간략) 시즌 11 브루저 쉔 [高숙련자 용](w..', '5/4 템트리 정리(선혈포식자 카직스..', '썬파', 'D2 ↑ 장인랭킹 1위 <니트> 마이의 정립.', '수호자 공략 시작합니다.', '슈퍼오른', '화공탱 너프 우디르 그래도 막을수 없습니다..', 'tzs', '키아나 A to Z', '나미 많이 사랑해주세요', '장인랭킹1위 \"PONY\" 시즌11 정글헤카림 11...', 'D3) [11시즌] 꿀챔 찾으시나요?', '아리 아리 아리랑', 'W선마로 사기치는 세트', '초심자를 위한 진 공략. 원딜 입문에..', '[목빨간새]라이즈에 대한 이야기들입니다.', '트페로 다이아찍으면서 보고 느낀것들 적어..', 'D2) 내가 하는 챔프는 공략글이 없더라 든든..', '케이틀린', '녹턴 템트리(크라켄,몰락,도미닉)', '니달리 창 무조건 맞히는 법과 4버프 운영 ..', '정글 자.폭가렌', '서폿)원딜 암살자 뽀삐(+영상)', '그웬 정글은 이속과 스플릿', '[JUSTRELL]', '[D1] 집중공격 신 짜오', '기발그웬', '[프리시즌]진정한 상남자의 챔프', '[손성은] 만년서리로 갈아탔습니다☆', '나무 고추', '전성기 시절 세트 느낌이 난다', '탱궨', '제드장인은 아니지만 쓸 만한 가치가 있는 ..', '전세계 제드1위가 알려주는 제드 꿀팁', '정글 리븐 6.11 연구 및 공사중 입니다', '역병힐러 트위치', '강력한 (탑,미드) 그웬', '난입 탑 소라카', '((시즌11))최신판. 비대칭전력 정글 피들스..', \"진심 역겨운 뉴메타 '수호자 화공 탱 샤코'..\", '짬짜면 같은 얼건내셔 그웬', '서리불꽃 그웬 ( 공략이라 할건 없지만 템트..', '밤수 미드자크 공략', '[11시즌] 서폿 없어도 크는 완전 솔랭형 이..', '그웬원챔', '북미시즌-시즌 초창기 고인물이 쓴 공략', '1빠', '무지성 킬각 다리우스', '(미드/탑) 집공or칼날비 그브', '시즌11 탑가렌 공략(21.04.16. 업데이트)', '밤의 수확자 탱직스', '내가 제일 많이하는 미스포츈', '시즌11 4/15일 모데카이저 정글 공략글입니..', 'C1) 현챌린저 795점 한달만에 배치부터 챌까..', 'D3 돌풍 샤코의 붐은 온다. 샤코 원챔 쌈무..', '드락사르 정복자 요네', '패치11.7) GM1 갈리오 서폿 1위 [방송on]', '시즌11 모데카이저 가이드', '정글 포식자 세트(30판이상)성능확실', '<리치베인의 너프이후의 Ap카타리나 빌드 U..', '11.7 패치까지 수정 완료했습니다.', '노족보 딜포터 다 대가리 깨버린다', '[시즌11] 잭스 가이드', '(+영상)트타하고 싶을때, 참고하면 좋은 글..', '얼음공주 사이온', '원거리 아트록스.', '라오갓과 탱커형 녹턴을 해보자.', '정글녹턴 랭킹1위 라오갓의 마지막 ..', '[마스터] vs 사일러스 영상 추가 갈리오 원..', 'ㅌㅁ', '바람의 검사 야스오 (삼위일체+유령무희)', '【탈리야 강의】완벽한 \"만년서리 탈리야\"【..', '【킨드레드 강의】 \"킨드레드 정글 1000% 이..', '11.7 패치 정석 키아나 (본 공략은 룬, 스킬..', '미드 초가스 가이드(모든 챔피언 상..', '[JG] 돌풍은 돌아오는거야', '【정글 세트 강의】 \"딜탱 다 되는 만능 정..', '[M1] 럭스유저 콩콩이 서폿 방송 ON', '[M1] 럭스유저 여진서폿 방송 ON', '지금까지 클레드는 틀렸다. 미드클레드 공략', '<From. 골딱이> 귤야호~ 그만큼 자객의 발톱..', '【 난입 헤카림 】새로운 패러다임【..', '[M1]한국최초 마스터계정2개나서스 핸드맨']\n"
     ]
    }
   ],
   "source": [
    "k = 0\n",
    "\n",
    "while True:\n",
    "    sleep(1)\n",
    "    next_button = driver.find_element_by_class_name(\"nexttext\")\n",
    "    end = driver.find_element_by_xpath(\"//*[@id='lolDbManualToolList']/div[2]/table/tbody/tr[2]/td\")\n",
    "#     if end.text == \"검색 결과가 없습니다.\":\n",
    "#         break\n",
    "    k += 1\n",
    "    print(i)\n",
    "    if k == 3:\n",
    "        break\n",
    "    else:\n",
    "        write_num = soup.find_all(\"td\", class_=\"champ\")\n",
    "        for i in range(2,len(write_num)+2):\n",
    "            headline = driver.find_element_by_xpath(\"//*[@id='lolDbManualToolList']/div[2]/table/tbody/tr[\" + str(i) + \"]/td[3]/a\").text\n",
    "            headline_list.append(headline)\n",
    "        \n",
    "        next_button.click()\n",
    "    \n",
    "\n",
    "print(headline_list)"
   ]
  },
  {
   "cell_type": "code",
   "execution_count": null,
   "metadata": {},
   "outputs": [],
   "source": [
    "#lolDbManualToolList > div.listTable > table > tbody > tr:nth-child(1) > th:nth-child(2) > a"
   ]
  },
  {
   "cell_type": "code",
   "execution_count": null,
   "metadata": {},
   "outputs": [],
   "source": [
    "#lolDbManualToolList > div.listTable > table > tbody > tr:nth-child(2) > td.subject > a\n",
    "#lolDbManualToolList > div.listTable > table > tbody > tr:nth-child(3) > td.subject > a\n",
    "#lolDbManualToolList > div.listTable > table > tbody > tr:nth-child(51) > td.subject > a\n",
    "//*[@id=\"lolDbManualToolList\"]/div[2]/table/tbody/tr[3]/td[3]/a"
   ]
  },
  {
   "cell_type": "code",
   "execution_count": null,
   "metadata": {},
   "outputs": [],
   "source": [
    "//*[@id=\"lolDbManualToolList\"]/div[2]/table/tbody/tr[2]/td[1]\n",
    "//*[@id=\"lolDbManualToolList\"]/div[2]/table/tbody/tr[2]/td\n",
    "//*[@id=\"lolDb\"]/div[6]/div[1]/div/span/span[16]/a"
   ]
  },
  {
   "cell_type": "code",
   "execution_count": 54,
   "metadata": {},
   "outputs": [],
   "source": [
    "write_num = soup.find_all(\"td\", class_=\"champ\")"
   ]
  },
  {
   "cell_type": "code",
   "execution_count": 56,
   "metadata": {},
   "outputs": [
    {
     "name": "stdout",
     "output_type": "stream",
     "text": [
      "50\n"
     ]
    }
   ],
   "source": [
    "print(len(write_num))"
   ]
  },
  {
   "cell_type": "code",
   "execution_count": null,
   "metadata": {},
   "outputs": [],
   "source": [
    "//*[@id=\"lolDbManualToolList\"]/div[2]/table/tbody/tr[35]/td[3]/a\n",
    "//*[@id=\"lolDbManualToolList\"]/div[2]/table/tbody/tr[2]/td[3]/a\n",
    "//*[@id=\"lolDbManualToolList\"]/div[2]/table/tbody/tr[35]/td[3]/a"
   ]
  }
 ],
 "metadata": {
  "kernelspec": {
   "display_name": "pydatavenv",
   "language": "python",
   "name": "pydatavenv"
  },
  "language_info": {
   "codemirror_mode": {
    "name": "ipython",
    "version": 3
   },
   "file_extension": ".py",
   "mimetype": "text/x-python",
   "name": "python",
   "nbconvert_exporter": "python",
   "pygments_lexer": "ipython3",
   "version": "3.7.9"
  }
 },
 "nbformat": 4,
 "nbformat_minor": 4
}
